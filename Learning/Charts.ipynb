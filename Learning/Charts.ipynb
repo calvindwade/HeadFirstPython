{
 "cells": [
  {
   "cell_type": "code",
   "execution_count": 1,
   "metadata": {},
   "outputs": [],
   "source": [
    "import swimclub\n",
    "\n",
    "fn = \"Darius-13-100m-Fly.txt\"\n",
    "\n",
    "(swimmer, age, distance, stroke, *_) = swimclub.read_swim_data(fn)\n",
    "\n",
    "title = swimmer + \" (Under \" + age + \") \" + distance + \" \" + stroke"
   ]
  },
  {
   "cell_type": "code",
   "execution_count": 2,
   "metadata": {},
   "outputs": [
    {
     "data": {
      "text/plain": [
       "'Darius (Under 13) 100m Fly'"
      ]
     },
     "execution_count": 2,
     "metadata": {},
     "output_type": "execute_result"
    }
   ],
   "source": [
    "title"
   ]
  },
  {
   "cell_type": "code",
   "execution_count": 3,
   "metadata": {},
   "outputs": [],
   "source": [
    "html = \"<!DOCTYPE html><html><head><title>\" + title\n",
    "html = html + \"</title></head><body><h3>\" + title + \"</h3>\""
   ]
  },
  {
   "cell_type": "code",
   "execution_count": 4,
   "metadata": {},
   "outputs": [
    {
     "data": {
      "text/plain": [
       "'<!DOCTYPE html><html><head><title>Darius (Under 13) 100m Fly</title></head><body><h3>Darius (Under 13) 100m Fly</h3>'"
      ]
     },
     "execution_count": 4,
     "metadata": {},
     "output_type": "execute_result"
    }
   ],
   "source": [
    "html"
   ]
  },
  {
   "cell_type": "code",
   "execution_count": 5,
   "metadata": {},
   "outputs": [
    {
     "data": {
      "text/plain": [
       "'Darius (Under 13) 100m Fly'"
      ]
     },
     "execution_count": 5,
     "metadata": {},
     "output_type": "execute_result"
    }
   ],
   "source": [
    "title = f\"{swimmer} (Under {age}) {distance} {stroke}\"\n",
    "title"
   ]
  },
  {
   "cell_type": "code",
   "execution_count": 6,
   "metadata": {},
   "outputs": [
    {
     "data": {
      "text/plain": [
       "'<!DOCTYPE html>\\n    <html> \\n        <head>\\n            <title>Darius (Under 13) 100m Fly</title>\\n        </head>\\n        <body>\\n            <h3>Darius (Under 13) 100m Fly</h3>\\n        '"
      ]
     },
     "execution_count": 6,
     "metadata": {},
     "output_type": "execute_result"
    }
   ],
   "source": [
    "html = f\"\"\"<!DOCTYPE html>\n",
    "    <html> \n",
    "        <head>\n",
    "            <title>{title}</title>\n",
    "        </head>\n",
    "        <body>\n",
    "            <h3>{title}</h3>\n",
    "        \"\"\"\n",
    "html"
   ]
  },
  {
   "cell_type": "code",
   "execution_count": 7,
   "metadata": {},
   "outputs": [
    {
     "name": "stdout",
     "output_type": "stream",
     "text": [
      "<!DOCTYPE html>\n",
      "    <html> \n",
      "        <head>\n",
      "            <title>Darius (Under 13) 100m Fly</title>\n",
      "        </head>\n",
      "        <body>\n",
      "            <h3>Darius (Under 13) 100m Fly</h3>\n",
      "        \n"
     ]
    }
   ],
   "source": [
    "print(html)"
   ]
  },
  {
   "cell_type": "code",
   "execution_count": 8,
   "metadata": {},
   "outputs": [
    {
     "data": {
      "text/plain": [
       "('Darius',\n",
       " '13',\n",
       " '100m',\n",
       " 'Fly',\n",
       " ['1:27.95', '1:21.07', '1:30.96', '1:23.22', '1:27.95', '1:28.30'],\n",
       " '1:26.58',\n",
       " [8795, 8107, 9096, 8322, 8795, 8830])"
      ]
     },
     "execution_count": 8,
     "metadata": {},
     "output_type": "execute_result"
    }
   ],
   "source": [
    "swimclub.read_swim_data(fn)"
   ]
  },
  {
   "cell_type": "code",
   "execution_count": 9,
   "metadata": {},
   "outputs": [
    {
     "data": {
      "text/plain": [
       "[['1:27.95', '1:21.07', '1:30.96', '1:23.22', '1:27.95', '1:28.30'],\n",
       " '1:26.58',\n",
       " [8795, 8107, 9096, 8322, 8795, 8830]]"
      ]
     },
     "execution_count": 9,
     "metadata": {},
     "output_type": "execute_result"
    }
   ],
   "source": [
    "_"
   ]
  },
  {
   "cell_type": "code",
   "execution_count": 10,
   "metadata": {},
   "outputs": [],
   "source": [
    "import swimclub\n",
    "import hfpy_utils\n",
    "\n",
    "*_, times, average, converts = swimclub.read_swim_data(fn)\n",
    "from_max = max(converts)\n",
    "svgs = \"\"\n",
    "times.reverse()\n",
    "converts.reverse()\n",
    "for n, t in enumerate(times):\n",
    "    bar_width = hfpy_utils.convert2range(converts[n], 0, from_max, 0, 350)\n",
    "    svgs = svgs + f\"\"\"\n",
    "                    <svg height=\"30\" width =\"400\">\n",
    "                        <rect height=\"30\" width=\"{bar_width}\" style=\"fill:rgb(0,0,255);\" />\n",
    "                    </svg>{t}<br />\n",
    "                    \"\"\"\n"
   ]
  },
  {
   "cell_type": "code",
   "execution_count": 11,
   "metadata": {},
   "outputs": [
    {
     "name": "stdout",
     "output_type": "stream",
     "text": [
      "\n",
      "                    <svg height=\"30\" width =\"400\">\n",
      "                        <rect height=\"30\" width=\"339.76\" style=\"fill:rgb(0,0,255);\" />\n",
      "                    </svg>1:28.30<br />\n",
      "                    \n",
      "                    <svg height=\"30\" width =\"400\">\n",
      "                        <rect height=\"30\" width=\"338.42\" style=\"fill:rgb(0,0,255);\" />\n",
      "                    </svg>1:27.95<br />\n",
      "                    \n",
      "                    <svg height=\"30\" width =\"400\">\n",
      "                        <rect height=\"30\" width=\"320.22\" style=\"fill:rgb(0,0,255);\" />\n",
      "                    </svg>1:23.22<br />\n",
      "                    \n",
      "                    <svg height=\"30\" width =\"400\">\n",
      "                        <rect height=\"30\" width=\"350.0\" style=\"fill:rgb(0,0,255);\" />\n",
      "                    </svg>1:30.96<br />\n",
      "                    \n",
      "                    <svg height=\"30\" width =\"400\">\n",
      "                        <rect height=\"30\" width=\"311.94\" style=\"fill:rgb(0,0,255);\" />\n",
      "                    </svg>1:21.07<br />\n",
      "                    \n",
      "                    <svg height=\"30\" width =\"400\">\n",
      "                        <rect height=\"30\" width=\"338.42\" style=\"fill:rgb(0,0,255);\" />\n",
      "                    </svg>1:27.95<br />\n",
      "                    \n"
     ]
    }
   ],
   "source": [
    "print(svgs)"
   ]
  },
  {
   "cell_type": "code",
   "execution_count": 12,
   "metadata": {},
   "outputs": [],
   "source": [
    "footer = f\"\"\"\n",
    "            <p>Average time: {average}</p>\n",
    "        </body>\n",
    "    </html>\n",
    "    \"\"\""
   ]
  },
  {
   "cell_type": "code",
   "execution_count": 13,
   "metadata": {},
   "outputs": [],
   "source": [
    "page = html + svgs + footer"
   ]
  },
  {
   "cell_type": "code",
   "execution_count": 14,
   "metadata": {},
   "outputs": [
    {
     "name": "stdout",
     "output_type": "stream",
     "text": [
      "<!DOCTYPE html>\n",
      "    <html> \n",
      "        <head>\n",
      "            <title>Darius (Under 13) 100m Fly</title>\n",
      "        </head>\n",
      "        <body>\n",
      "            <h3>Darius (Under 13) 100m Fly</h3>\n",
      "        \n",
      "                    <svg height=\"30\" width =\"400\">\n",
      "                        <rect height=\"30\" width=\"339.76\" style=\"fill:rgb(0,0,255);\" />\n",
      "                    </svg>1:28.30<br />\n",
      "                    \n",
      "                    <svg height=\"30\" width =\"400\">\n",
      "                        <rect height=\"30\" width=\"338.42\" style=\"fill:rgb(0,0,255);\" />\n",
      "                    </svg>1:27.95<br />\n",
      "                    \n",
      "                    <svg height=\"30\" width =\"400\">\n",
      "                        <rect height=\"30\" width=\"320.22\" style=\"fill:rgb(0,0,255);\" />\n",
      "                    </svg>1:23.22<br />\n",
      "                    \n",
      "                    <svg height=\"30\" width =\"400\">\n",
      "                        <rect height=\"30\" width=\"350.0\" style=\"fill:rgb(0,0,255);\" />\n",
      "                    </svg>1:30.96<br />\n",
      "                    \n",
      "                    <svg height=\"30\" width =\"400\">\n",
      "                        <rect height=\"30\" width=\"311.94\" style=\"fill:rgb(0,0,255);\" />\n",
      "                    </svg>1:21.07<br />\n",
      "                    \n",
      "                    <svg height=\"30\" width =\"400\">\n",
      "                        <rect height=\"30\" width=\"338.42\" style=\"fill:rgb(0,0,255);\" />\n",
      "                    </svg>1:27.95<br />\n",
      "                    \n",
      "            <p>Average time: 1:26.58</p>\n",
      "        </body>\n",
      "    </html>\n",
      "    \n"
     ]
    }
   ],
   "source": [
    "print(page)"
   ]
  },
  {
   "cell_type": "code",
   "execution_count": 15,
   "metadata": {},
   "outputs": [],
   "source": [
    "with open(\"test.txt\", \"w\") as tf:\n",
    "    print(\"This is a test.\", file=tf)"
   ]
  },
  {
   "cell_type": "code",
   "execution_count": 16,
   "metadata": {},
   "outputs": [],
   "source": [
    "save_to = f\"charts/{fn.removesuffix('.txt')}.html\""
   ]
  },
  {
   "cell_type": "code",
   "execution_count": 17,
   "metadata": {},
   "outputs": [],
   "source": [
    "with open(save_to, \"w\") as sf:\n",
    "    print(page, file=sf)"
   ]
  },
  {
   "cell_type": "code",
   "execution_count": 18,
   "metadata": {},
   "outputs": [],
   "source": [
    "import os\n",
    "import webbrowser"
   ]
  },
  {
   "cell_type": "code",
   "execution_count": 19,
   "metadata": {},
   "outputs": [
    {
     "data": {
      "text/plain": [
       "True"
      ]
     },
     "execution_count": 19,
     "metadata": {},
     "output_type": "execute_result"
    }
   ],
   "source": [
    "webbrowser.open(\"file://\" + os.path.realpath(save_to))"
   ]
  },
  {
   "cell_type": "code",
   "execution_count": 20,
   "metadata": {},
   "outputs": [],
   "source": [
    "import os\n",
    "import swimclub\n",
    "import webbrowser\n"
   ]
  },
  {
   "cell_type": "code",
   "execution_count": 21,
   "metadata": {},
   "outputs": [
    {
     "ename": "FileNotFoundError",
     "evalue": "[Errno 2] No such file or directory: 'records.json'",
     "output_type": "error",
     "traceback": [
      "\u001b[1;31m---------------------------------------------------------------------------\u001b[0m",
      "\u001b[1;31mFileNotFoundError\u001b[0m                         Traceback (most recent call last)",
      "\u001b[1;32mc:\\code\\HeadFirstPython\\Learning\\Charts.ipynb Cell 21\u001b[0m line \u001b[0;36m1\n\u001b[1;32m----> <a href='vscode-notebook-cell:/c%3A/code/HeadFirstPython/Learning/Charts.ipynb#X26sZmlsZQ%3D%3D?line=0'>1</a>\u001b[0m swimclub\u001b[39m.\u001b[39;49mproduce_bar_chart(\u001b[39m\"\u001b[39;49m\u001b[39mDarius-13-100m-Fly.txt\u001b[39;49m\u001b[39m\"\u001b[39;49m)\n",
      "File \u001b[1;32mc:\\code\\HeadFirstPython\\Learning\\swimclub.py:81\u001b[0m, in \u001b[0;36mproduce_bar_chart\u001b[1;34m(fn)\u001b[0m\n\u001b[0;32m     75\u001b[0m     bar_width \u001b[39m=\u001b[39m hfpy_utils\u001b[39m.\u001b[39mconvert2range(converts[n], \u001b[39m0\u001b[39m, from_max, \u001b[39m0\u001b[39m, \u001b[39m350\u001b[39m)\n\u001b[0;32m     76\u001b[0m     body \u001b[39m=\u001b[39m body \u001b[39m+\u001b[39m \u001b[39mf\u001b[39m\u001b[39m\"\"\"\u001b[39m\n\u001b[0;32m     77\u001b[0m \u001b[39m                        <svg height=\u001b[39m\u001b[39m\"\u001b[39m\u001b[39m30\u001b[39m\u001b[39m\"\u001b[39m\u001b[39m width=\u001b[39m\u001b[39m\"\u001b[39m\u001b[39m400\u001b[39m\u001b[39m\"\u001b[39m\u001b[39m>\u001b[39m\n\u001b[0;32m     78\u001b[0m \u001b[39m                            <rect height=\u001b[39m\u001b[39m\"\u001b[39m\u001b[39m30\u001b[39m\u001b[39m\"\u001b[39m\u001b[39m width=\u001b[39m\u001b[39m\"\u001b[39m\u001b[39m{\u001b[39;00mbar_width\u001b[39m}\u001b[39;00m\u001b[39m\"\u001b[39m\u001b[39m style=\u001b[39m\u001b[39m\"\u001b[39m\u001b[39mfill:rgb(0,0,255);\u001b[39m\u001b[39m\"\u001b[39m\u001b[39m />\u001b[39m\n\u001b[0;32m     79\u001b[0m \u001b[39m                        </svg>\u001b[39m\u001b[39m{\u001b[39;00mt\u001b[39m}\u001b[39;00m\u001b[39m<br />\u001b[39m\u001b[39m\"\"\"\u001b[39m\n\u001b[1;32m---> 81\u001b[0m \u001b[39mwith\u001b[39;00m \u001b[39mopen\u001b[39;49m(JSONDATA) \u001b[39mas\u001b[39;00m jf:\n\u001b[0;32m     82\u001b[0m     records \u001b[39m=\u001b[39m json\u001b[39m.\u001b[39mload(jf)\n\u001b[0;32m     83\u001b[0m COURSES \u001b[39m=\u001b[39m (\u001b[39m\"\u001b[39m\u001b[39mLC Men\u001b[39m\u001b[39m\"\u001b[39m, \u001b[39m\"\u001b[39m\u001b[39mLC Women\u001b[39m\u001b[39m\"\u001b[39m, \u001b[39m\"\u001b[39m\u001b[39mSC Men\u001b[39m\u001b[39m\"\u001b[39m, \u001b[39m\"\u001b[39m\u001b[39mSC Women\u001b[39m\u001b[39m\"\u001b[39m)\n",
      "\u001b[1;31mFileNotFoundError\u001b[0m: [Errno 2] No such file or directory: 'records.json'"
     ]
    }
   ],
   "source": [
    "swimclub.produce_bar_chart(\"Darius-13-100m-Fly.txt\")"
   ]
  },
  {
   "cell_type": "code",
   "execution_count": null,
   "metadata": {},
   "outputs": [],
   "source": [
    "chart = swimclub.produce_bar_chart(\"Darius-13-100m-Fly.txt\")\n",
    "\n",
    "webbrowser.open(\"file://\" + os.path.realpath(chart))"
   ]
  },
  {
   "cell_type": "code",
   "execution_count": null,
   "metadata": {},
   "outputs": [],
   "source": [
    "chart = swimclub.produce_bar_chart(\"Lizzie-14-100m-Back.txt\")\n",
    "\n",
    "webbrowser.open(\"file://\" + os.path.realpath(chart))"
   ]
  },
  {
   "cell_type": "code",
   "execution_count": null,
   "metadata": {},
   "outputs": [],
   "source": []
  }
 ],
 "metadata": {
  "kernelspec": {
   "display_name": ".venv",
   "language": "python",
   "name": "python3"
  },
  "language_info": {
   "codemirror_mode": {
    "name": "ipython",
    "version": 3
   },
   "file_extension": ".py",
   "mimetype": "text/x-python",
   "name": "python",
   "nbconvert_exporter": "python",
   "pygments_lexer": "ipython3",
   "version": "3.11.4"
  },
  "orig_nbformat": 4
 },
 "nbformat": 4,
 "nbformat_minor": 2
}
