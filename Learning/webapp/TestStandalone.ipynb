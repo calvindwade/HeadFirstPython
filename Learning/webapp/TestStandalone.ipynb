{
 "cells": [
  {
   "cell_type": "code",
   "execution_count": 2,
   "metadata": {},
   "outputs": [],
   "source": [
    "def event_lookup(event):\n",
    "    conversions = {\n",
    "    \"Free\": \"freestyle\",\n",
    "    \"Back\": \"backstroke\",\n",
    "    \"Breast\": \"breaststroke\",\n",
    "    \"Fly\": \"butterfly\",\n",
    "    \"IM\": \"individual medley\",\n",
    "    }\n",
    "    *_, distance, stroke = event.removesuffix(\".txt\").split(\"-\")\n",
    "    return f\"{distance} {conversions[stroke]}\""
   ]
  },
  {
   "cell_type": "code",
   "execution_count": 4,
   "metadata": {},
   "outputs": [
    {
     "name": "stdout",
     "output_type": "stream",
     "text": [
      "100m backstroke\n",
      "100m breaststroke\n",
      "100m butterfly\n",
      "100m individual medley\n"
     ]
    }
   ],
   "source": [
    "print(event_lookup(\"Darius-13-100m-Back.txt\"))\n",
    "print(event_lookup(\"Darius-13-100m-Breast.txt\"))\n",
    "print(event_lookup(\"Darius-13-100m-Fly.txt\"))\n",
    "print(event_lookup(\"Darius-13-100m-IM.txt\"))"
   ]
  },
  {
   "cell_type": "code",
   "execution_count": 5,
   "metadata": {},
   "outputs": [],
   "source": [
    "import json\n",
    "with open(\"records.json\") as jf:\n",
    "    records = json.load(jf)"
   ]
  },
  {
   "cell_type": "code",
   "execution_count": 6,
   "metadata": {},
   "outputs": [
    {
     "data": {
      "text/plain": [
       "'49.45'"
      ]
     },
     "execution_count": 6,
     "metadata": {},
     "output_type": "execute_result"
    }
   ],
   "source": [
    "records[\"LC Men\"] [event_lookup(\"Darius-13-100m-Fly.txt\")]"
   ]
  },
  {
   "cell_type": "code",
   "execution_count": null,
   "metadata": {},
   "outputs": [],
   "source": []
  }
 ],
 "metadata": {
  "kernelspec": {
   "display_name": ".venv",
   "language": "python",
   "name": "python3"
  },
  "language_info": {
   "codemirror_mode": {
    "name": "ipython",
    "version": 3
   },
   "file_extension": ".py",
   "mimetype": "text/x-python",
   "name": "python",
   "nbconvert_exporter": "python",
   "pygments_lexer": "ipython3",
   "version": "3.11.4"
  }
 },
 "nbformat": 4,
 "nbformat_minor": 2
}
